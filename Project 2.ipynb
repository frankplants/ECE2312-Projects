{
 "cells": [
  {
   "cell_type": "code",
   "execution_count": null,
   "metadata": {},
   "outputs": [],
   "source": [
    "# Install packages needed for imports below\n",
    "# ! pip3 install wavio \n",
    "# ! pip3 install librosa\n",
    "# ! pip3 install sounddevice\n",
    "# had to install an earlier version of matplotlib in order to get the librosa waveshow function to work\n",
    "# ! pip3 install matplotlib==3.7.3"
   ]
  },
  {
   "cell_type": "code",
   "execution_count": 10,
   "metadata": {},
   "outputs": [],
   "source": [
    "# import necessary modules\n",
    "import numpy as np\n",
    "from scipy.io import wavfile\n",
    "from matplotlib import pyplot as plt\n",
    "from scipy.fft import fft, fftfreq\n",
    "from scipy.fft import rfft, rfftfreq\n",
    "from scipy.io.wavfile import write\n",
    "import matplotlib.pyplot as plt\n",
    "import librosa.display\n",
    "import IPython.display as ipd\n",
    "import numpy as np\n",
    "import time "
   ]
  },
  {
   "cell_type": "code",
   "execution_count": null,
   "metadata": {},
   "outputs": [],
   "source": [
    "# Define Sampling Rate or Frequency in Hz\n",
    "sr = 44100\n",
    "\n",
    "# Recording duration in seconds\n",
    "duration = 5\n",
    "\n",
    "def generate_sine_wave(freq, sample_rate, duration):\n",
    "    x = np.linspace(0, duration, sample_rate*duration, endpoint=False)\n",
    "    frequencies = x*freq\n",
    "    y = np.sin((2*np.pi)*frequencies)\n",
    "    return x, y\n",
    "\n",
    "# generates a spectrogram from the recorded audio array\n",
    "def generate_spectrogram(array, sr_in, plot_title):\n",
    "    freq = librosa.amplitude_to_db(np.abs(librosa.stft(array)), ref=np.max)\n",
    "    fig, ax = plt.subplots()\n",
    "    plt.ylim(0,8000) # limit frequencies plotted to between 0 and 8000 Hz\n",
    "    plt.title(plot_title + \" Spectrogram\") # insert plot title based on function input\n",
    "    img = librosa.display.specshow(freq, x_axis='time', y_axis='linear',ax=ax, sr=sr_in)\n",
    "    plt.xlabel(\"Time (seconds)\")\n",
    "    plt.ylabel(\"Frequency (Hertz)\")\n",
    "    fig.colorbar(img, ax=ax)\n",
    "\n",
    "x1, tone1 = generate_sine_wave(5000, sr, duration)\n",
    "\n",
    "write(\"team[]-sinetone.wav\", sr, tone1)\n",
    "generate_spectrogram(tone1, sr, \"5000Hz Sine Wave\")"
   ]
  },
  {
   "cell_type": "code",
   "execution_count": null,
   "metadata": {},
   "outputs": [],
   "source": [
    "# Define Sampling Rate or Frequency in Hz\n",
    "sr = 44100\n",
    "\n",
    "# Recording duration in seconds\n",
    "duration = 5\n",
    "\n",
    "def generate_sine_wave(freq, sample_rate, duration):\n",
    "    x = np.linspace(0, duration, sample_rate*duration, endpoint=False)\n",
    "    frequencies = x*freq\n",
    "    y = np.sin((2*np.pi)*frequencies)\n",
    "    return x, y\n",
    "\n",
    "# generates a spectrogram from the recorded audio array\n",
    "def generate_spectrogram(array, sr_in, plot_title):\n",
    "    freq = librosa.amplitude_to_db(np.abs(librosa.stft(array)), ref=np.max)\n",
    "    fig, ax = plt.subplots()\n",
    "    plt.ylim(0,8000) # limit frequencies plotted to between 0 and 8000 Hz\n",
    "    plt.title(plot_title + \" Spectrogram\") # insert plot title based on function input\n",
    "    img = librosa.display.specshow(freq, x_axis='time', y_axis='linear',ax=ax, sr=sr_in)\n",
    "    plt.xlabel(\"Time (seconds)\")\n",
    "    plt.ylabel(\"Frequency (Hertz)\")\n",
    "    fig.colorbar(img, ax=ax)\n",
    "\n",
    "x1, tone1 = generate_sine_wave(5000, sr, duration)\n",
    "\n",
    "write(\"team[]-sinetone.wav\", sr, tone1)\n",
    "generate_spectrogram(tone1, sr, \"5000Hz Sine Wave\")"
   ]
  }
 ],
 "metadata": {
  "kernelspec": {
   "display_name": "Python 3",
   "language": "python",
   "name": "python3"
  },
  "language_info": {
   "codemirror_mode": {
    "name": "ipython",
    "version": 3
   },
   "file_extension": ".py",
   "mimetype": "text/x-python",
   "name": "python",
   "nbconvert_exporter": "python",
   "pygments_lexer": "ipython3",
   "version": "3.11.7"
  }
 },
 "nbformat": 4,
 "nbformat_minor": 2
}
