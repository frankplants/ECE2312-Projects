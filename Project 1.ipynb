{
 "cells": [
  {
   "cell_type": "code",
   "execution_count": null,
   "metadata": {},
   "outputs": [],
   "source": [
    "# Install packages needed for imports below\n",
    "# ! pip3 install wavio \n",
    "# ! pip3 install librosa\n",
    "# ! pip3 install sounddevice\n",
    "# had to install an earlier version of matplotlib in order to get the librosa waveshow function to work\n",
    "# ! pip3 install matplotlib==3.7.3"
   ]
  },
  {
   "cell_type": "code",
   "execution_count": 179,
   "metadata": {},
   "outputs": [],
   "source": [
    "# import necessary modules\n",
    "import sounddevice as sd\n",
    "from scipy.io.wavfile import write\n",
    "%matplotlib inline\n",
    "import matplotlib.pyplot as plt\n",
    "import librosa.display\n",
    "import IPython.display as ipd\n",
    "import numpy as np\n",
    "import time "
   ]
  },
  {
   "cell_type": "code",
   "execution_count": 178,
   "metadata": {},
   "outputs": [],
   "source": [
    "# Define Sampling Rate or Frequency in Hz\n",
    "sr = 44100\n",
    "# Output sample rate after wav file generation\n",
    "sr_wav = 22050\n",
    "\n",
    "# Record duration in seconds\n",
    "duration = 5\n",
    "\n",
    "# Main function to record audio in mono and save to wav file\n",
    "def record(wav_path):\n",
    "    # Start audio recording\n",
    "    recording = sd.rec(int(duration*sr), samplerate=sr, channels=1) #record with a mono channel microphone\n",
    "   \n",
    "    # Record audio for the given duration\n",
    "    print(\"Recording... \" + wav_path)\n",
    "    sd.wait()\n",
    "    \n",
    "    # Write it to a wav file\n",
    "    write(wav_path, sr, recording)\n",
    "\n",
    "    # Create discrete array from wav file \n",
    "    wav, sr = librosa.load(wav_path)\n",
    "\n",
    "    # Return original recording array and wav file array\n",
    "    return recording[:,0], wav\n",
    "\n",
    "# generates time domain representation of audio array\n",
    "def generate_time_plot(array, plot_title):\n",
    "    plt.figure(figsize=(14, 5))\n",
    "    plt.title(plot_title + \" Time Domain\") # insert plot title based on function input\n",
    "    plt.xlim(0, 5) # limit time frame from 0 to 5 seconds\n",
    "    librosa.display.waveshow(array, sr=sr)\n",
    "    plt.xlabel(\"Time (seconds)\") \n",
    "    plt.ylabel(\"Amplitude\")\n",
    "\n",
    "# generates a spectrogram from the recorded audio array\n",
    "def generate_spectrogram(array, sr_in, plot_title):\n",
    "    freq = librosa.amplitude_to_db(np.abs(librosa.stft(array)), ref=np.max)\n",
    "    fig, ax = plt.subplots()\n",
    "    plt.ylim(0,8000) # limit frequencies plotted to between 0 and 8000 Hz\n",
    "    plt.title(plot_title + \" Spectrogram\") # insert plot title based on function input\n",
    "    img = librosa.display.specshow(freq, x_axis='time', y_axis='linear',ax=ax, sr=sr_in)\n",
    "    plt.xlabel(\"Time (seconds)\")\n",
    "    plt.ylabel(\"Frequency (Hertz)\")\n",
    "    fig.colorbar(img, ax=ax)\n",
    "\n",
    "# Function takes a mono audio array and duplicates it produces a stereo array.\n",
    "# The right channel array is then delayed and/or attenuated based on the input parameters\n",
    "def delay_array(array, delay, delay_name, attenuation, attenuation_name):\n",
    "    # delete the last x number of values in the array based on delay\n",
    "    delete_elements = array[0:array.size-delay] \n",
    "    \n",
    "    # pad the beginning of the array with zeros\n",
    "    pad_zeros = np.pad(delete_elements, (delay, 0), 'constant') \n",
    "   \n",
    "    # combine the original array with the delayed array\n",
    "    delayed_array = np.hstack((array.reshape(-1,1), pad_zeros.reshape(-1,1)*attenuation)) \n",
    "    \n",
    "    # if right array is only delayed, NOT attenuated, save with delay in file name\n",
    "    if attenuation == 1: \n",
    "        filename = \"team[]-stereosoundfile-[\" + delay_name + \"].wav\" # \n",
    "    # if right array is delayed AND attenudated, save with delay and attenuation in file name\n",
    "    else: \n",
    "        filename = \"team[]-stereosoundfile-[\" + delay_name + \"]-[\" + attenuation_name + \"].wav\"\n",
    "    \n",
    "    write(filename, sr, delayed_array) # write stereo array to a wave file\n",
    "\n",
    "# Function runs the delay_array function for each desired delay and attenuation value requested in the project\n",
    "def generate_files(array):\n",
    "    # calculated number of samples to delay by for team member 1\n",
    "    frank_samples = (0.202/ 343) * sr \n",
    "    \n",
    "    # calculate number of samples to delay by for team member 2\n",
    "    perrin_samples = (0.194/ 343) * sr\n",
    "    \n",
    "    # average team member samples together to get the average number of samples to delay by\n",
    "    delay_avg = (frank_samples+perrin_samples)/2\n",
    "    \n",
    "    # desired delay values\n",
    "    delay_list = [0, round(delay_avg), round(0.001*sr), round(0.01*sr), round(0.1*sr)] \n",
    "    \n",
    "    # delay values formatted for wav file name\n",
    "    delay_names = [\"0ms\", \"avghead\", \"1ms\", \"10ms\", \"100ms\"] \n",
    "   \n",
    "    # run delay array function for each of the 5 delay values\n",
    "    for x in range(5): \n",
    "        delay_array(array, delay_list[x], delay_names[x], 1, \"\")\n",
    "\n",
    "    # desired attenuation values\n",
    "    attenuation_list = [0.7, 0.5, 0.25] \n",
    "    \n",
    "    # formatted for wave file name\n",
    "    attenuation_names = [\"-1.5dB\", \"-3dB\", \"-6dB\"] \n",
    "    \n",
    "    # run delay array function for each of the 3 attenuation values using 0ms and avghead delay\n",
    "    for x in range(3): \n",
    "        delay_array(array, delay_list[0], delay_names[0], attenuation_list[x], attenuation_names[x])\n",
    "        delay_array(array, delay_list[1], delay_names[1], attenuation_list[x], attenuation_names[x])\n"
   ]
  },
  {
   "cell_type": "code",
   "execution_count": null,
   "metadata": {},
   "outputs": [],
   "source": [
    "# Record the three phrases using record function and save to a wav file\n",
    "recording1, wav1 = record(\"quick_brown_fox.wav\")\n",
    "print(\"Done!\\n\")\n",
    "time.sleep(3) # pause 3 seconds between recordings\n",
    "recording2, wav2 = record(\"antique_ivory_buckles.wav\")\n",
    "print(\"Done!\\n\")\n",
    "time.sleep(3) # pause 3 seconds between recordings\n",
    "recording3, wav3 = record(\"exquisite_opal_jewels.wav\")\n",
    "print(\"Done!\\n\")"
   ]
  },
  {
   "cell_type": "code",
   "execution_count": null,
   "metadata": {},
   "outputs": [],
   "source": [
    "# Generate a Time Domain Plot for Each Recording\n",
    "generate_time_plot(recording1, \"Quick Brown Fox\")\n",
    "generate_time_plot(recording2, \"Antique Ivory Buckles\")\n",
    "generate_time_plot(recording3, \"Exquisite Opal Jewels\")"
   ]
  },
  {
   "cell_type": "code",
   "execution_count": null,
   "metadata": {},
   "outputs": [],
   "source": [
    "# Generate a Spectrogram for Each Recording\n",
    "generate_spectrogram(recording1, sr, \"Quick Brown Fox\")\n",
    "generate_spectrogram(recording2, sr, \"Antique Ivory Buckles\")\n",
    "generate_spectrogram(recording3, sr, \"Exquisite Opal Jewels\")"
   ]
  },
  {
   "cell_type": "code",
   "execution_count": null,
   "metadata": {},
   "outputs": [],
   "source": [
    "# Generate a Spectrogram for Each WAV File\n",
    "generate_spectrogram(wav1, sr_wav, \"Quick Brown Fox\")\n",
    "generate_spectrogram(wav2, sr_wav, \"Antique Ivory Buckles\")\n",
    "generate_spectrogram(wav3, sr_wav, \"Exquisite Opal Jewels\")"
   ]
  },
  {
   "cell_type": "code",
   "execution_count": 177,
   "metadata": {},
   "outputs": [],
   "source": [
    "# Generate delayed and attenuated wav files for one of the phrases\n",
    "generate_files(recording1)"
   ]
  }
 ],
 "metadata": {
  "kernelspec": {
   "display_name": "Python 3",
   "language": "python",
   "name": "python3"
  },
  "language_info": {
   "codemirror_mode": {
    "name": "ipython",
    "version": 3
   },
   "file_extension": ".py",
   "mimetype": "text/x-python",
   "name": "python",
   "nbconvert_exporter": "python",
   "pygments_lexer": "ipython3",
   "version": "3.11.7"
  }
 },
 "nbformat": 4,
 "nbformat_minor": 2
}
